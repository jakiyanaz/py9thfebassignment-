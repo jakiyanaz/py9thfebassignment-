{
 "cells": [
  {
   "cell_type": "markdown",
   "id": "1435a4bf-0e85-46f6-9891-4d5746cd1d8f",
   "metadata": {},
   "source": [
    "Q1, Create a vehicle class with an init method having instance variables as name_of_vehicle, max_speed \n",
    "and average_of_vehicle. "
   ]
  },
  {
   "cell_type": "code",
   "execution_count": 4,
   "id": "5f49b6e2-2787-4132-a232-4cfe0da74a96",
   "metadata": {},
   "outputs": [
    {
     "name": "stdout",
     "output_type": "stream",
     "text": [
      "Bike\n",
      "120km/hr\n",
      "60km\n"
     ]
    }
   ],
   "source": [
    "class vehicle:\n",
    "    def __init__(self,name_of_vehicle,max_speed,average_of_vehicle):\n",
    "        self.name = name_of_vehicle\n",
    "        self.maxspeed = max_speed\n",
    "        self.average = average_of_vehicle\n",
    "        \n",
    "obj1_vehicle = vehicle('Bike','120km/hr','60km')\n",
    "print(obj1_vehicle.name)\n",
    "print(obj1_vehicle.maxspeed)\n",
    "print(obj1_vehicle.average)"
   ]
  },
  {
   "cell_type": "markdown",
   "id": "f3fd2bc5-1fd0-4199-8909-9d830f912f3a",
   "metadata": {},
   "source": [
    "Q2.  Create a child class car from the vehicle class created in Que 1, which will inherit the vehicle class. \n",
    "Create a method named seating_capacity which takes capacity as an argument and returns the name of \n",
    "the vehicle and its seating capacity."
   ]
  },
  {
   "cell_type": "code",
   "execution_count": 8,
   "id": "01acc73a-fc5c-4e6a-b66a-e44f41bc2030",
   "metadata": {},
   "outputs": [
    {
     "name": "stdout",
     "output_type": "stream",
     "text": [
      "('Maruti Suzuki', 20)\n"
     ]
    }
   ],
   "source": [
    "class car(vehicle):\n",
    "    def seating_capacity(self,capacity):\n",
    "        self.capacity = capacity\n",
    "        return self.name, self.capacity\n",
    "    \n",
    "obj1_car = car('Maruti Suzuki','200km/hr','80km')\n",
    "print(obj1_car.seating_capacity(20))"
   ]
  },
  {
   "cell_type": "markdown",
   "id": "b96d6c46-ab84-49a4-af66-c7ef80fd5d91",
   "metadata": {},
   "source": [
    "Q3. What is multiple inheritance? Write a python code to demonstrate multiple inheritance."
   ]
  },
  {
   "cell_type": "markdown",
   "id": "8e5eefad-7406-4ac9-9533-23ee2b93ce42",
   "metadata": {},
   "source": [
    "Ans: Multiple inheritance: \n",
    "\n",
    "When a child class inherits from more than one parents, this is called multiple inheritance."
   ]
  },
  {
   "cell_type": "code",
   "execution_count": 9,
   "id": "1d0eec7f-fb81-4802-865b-2efe7d5696b1",
   "metadata": {},
   "outputs": [
    {
     "name": "stdout",
     "output_type": "stream",
     "text": [
      "Hello\n",
      "Hii\n"
     ]
    }
   ],
   "source": [
    "#Example:\n",
    "class parent1:\n",
    "    x = \"Hello\"\n",
    "\n",
    "class parent2:\n",
    "    y = \"Hii\"\n",
    "    \n",
    "class child(parent1,parent2):\n",
    "    pass\n",
    "\n",
    "obj_child = child()\n",
    "print(obj_child.x)\n",
    "print(obj_child.y)"
   ]
  },
  {
   "cell_type": "markdown",
   "id": "8522d30c-478f-4e00-8237-8fedb6dab51b",
   "metadata": {},
   "source": [
    "Q4. What are getter and setter in python? Create a class and create a getter and a setter method in this \n",
    "class."
   ]
  },
  {
   "cell_type": "markdown",
   "id": "f937c7d6-7978-4fc0-ae51-b7a4f6b33959",
   "metadata": {},
   "source": [
    "Ans: In Python, getters and setters are used to to ensure data encapsulation.\n",
    "\n",
    "We use getters & setters to add validation logic around getting and setting a value.\n",
    "\n",
    "To avoid direct access of a class field i.e. private variables cannot be accessed directly or modified by external user."
   ]
  },
  {
   "cell_type": "code",
   "execution_count": 14,
   "id": "3011e190-46e4-4e42-975e-132035f10602",
   "metadata": {},
   "outputs": [
    {
     "name": "stdout",
     "output_type": "stream",
     "text": [
      "3000\n",
      "2500\n"
     ]
    }
   ],
   "source": [
    "#Example:\n",
    "class course:\n",
    "    def __init__(self,course_price):\n",
    "        self.__price = course_price\n",
    "        \n",
    "    @property\n",
    "    def course_detail(self):\n",
    "        return self.__price\n",
    "    \n",
    "    @course_detail.setter\n",
    "    def set_detail(self,x):\n",
    "        self.__price = x\n",
    "        \n",
    "obj_course = course(3000)\n",
    "print(obj_course.course_detail)\n",
    "obj_course.set_detail = 2500\n",
    "print(obj_course.course_detail)"
   ]
  },
  {
   "cell_type": "markdown",
   "id": "768d5114-f4d8-4853-83fe-130245d0f922",
   "metadata": {},
   "source": [
    "Q5.What is method overriding in python? Write a python code to demonstrate method overriding."
   ]
  },
  {
   "cell_type": "markdown",
   "id": "2d1a75a9-3c50-4be7-8129-e774e04b5d5c",
   "metadata": {},
   "source": [
    "Ans: Method overriding is an ability of python programming language that allows a subclass or child class to provide a specific implementation of a method that is already provided by one of its super-classes or parent classes. "
   ]
  },
  {
   "cell_type": "code",
   "execution_count": 15,
   "id": "e776b71a-0054-429b-8387-a30925d05b8b",
   "metadata": {},
   "outputs": [
    {
     "name": "stdout",
     "output_type": "stream",
     "text": [
      "Kiara\n",
      "Kartik\n"
     ]
    }
   ],
   "source": [
    "#Example:\n",
    "class parent:\n",
    "    def __init__(self, name):\n",
    "        self.name = name\n",
    "    \n",
    "    def show(self):\n",
    "        return self.name\n",
    "    \n",
    "class child(parent):\n",
    "    def __init__(self, name):\n",
    "        self.name = name\n",
    "        \n",
    "    def show(self):\n",
    "        return self.name\n",
    "    \n",
    "obj_parent = parent(\"Kiara\")\n",
    "obj_child = parent(\"Kartik\")\n",
    "\n",
    "print(obj_parent.show())\n",
    "print(obj_child.show())"
   ]
  },
  {
   "cell_type": "code",
   "execution_count": null,
   "id": "ce36af6d-48c1-4762-82fb-e9fef7e37fba",
   "metadata": {},
   "outputs": [],
   "source": []
  }
 ],
 "metadata": {
  "kernelspec": {
   "display_name": "Python 3 (ipykernel)",
   "language": "python",
   "name": "python3"
  },
  "language_info": {
   "codemirror_mode": {
    "name": "ipython",
    "version": 3
   },
   "file_extension": ".py",
   "mimetype": "text/x-python",
   "name": "python",
   "nbconvert_exporter": "python",
   "pygments_lexer": "ipython3",
   "version": "3.10.8"
  }
 },
 "nbformat": 4,
 "nbformat_minor": 5
}
